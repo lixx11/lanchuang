{
 "cells": [
  {
   "cell_type": "markdown",
   "metadata": {},
   "source": [
    "# Overview of strip steel"
   ]
  },
  {
   "cell_type": "code",
   "execution_count": null,
   "metadata": {
    "collapsed": true
   },
   "outputs": [],
   "source": [
    "import numpy as np\n",
    "import matplotlib.pyplot as plt\n",
    "import scipy as sp\n",
    "from scipy import ndimage\n",
    "\n",
    "from glob import glob"
   ]
  },
  {
   "cell_type": "markdown",
   "metadata": {},
   "source": [
    "## How many images?"
   ]
  },
  {
   "cell_type": "code",
   "execution_count": null,
   "metadata": {
    "collapsed": false
   },
   "outputs": [],
   "source": [
    "images = glob('/Volumes/DATA/strip_steel/images/*/*.jpg')\n",
    "print('total images: %d' % len(images))"
   ]
  },
  {
   "cell_type": "markdown",
   "metadata": {},
   "source": [
    "## How many classes?"
   ]
  },
  {
   "cell_type": "code",
   "execution_count": null,
   "metadata": {
    "collapsed": false
   },
   "outputs": [],
   "source": [
    "classes = []\n",
    "for image_file in images:\n",
    "    classes.append(image_file.split('/')[-2])\n",
    "\n",
    "import collections\n",
    "\n",
    "counter=collections.Counter(classes)\n",
    "print(counter)"
   ]
  },
  {
   "cell_type": "markdown",
   "metadata": {},
   "source": [
    "## Some examples"
   ]
  },
  {
   "cell_type": "code",
   "execution_count": null,
   "metadata": {
    "collapsed": false
   },
   "outputs": [],
   "source": [
    "import random\n",
    "\n",
    "examples = 4\n",
    "for i,class_ in enumerate(counter.keys()):\n",
    "    print('plotting %s' % class_)\n",
    "    indices = [_n for _n,x in enumerate(classes) if x == class_]\n",
    "    random_indices = random.sample(indices, k=examples)\n",
    "    for j in range(examples):\n",
    "        img = ndimage.imread(images[random_indices[j]])\n",
    "        plt.subplot('%d%d%d' % (i+1, examples, j+1))\n",
    "        plt.imshow(img, cmap='gray')\n",
    "    plt.tight_layout()\n",
    "    plt.show()\n",
    "    "
   ]
  },
  {
   "cell_type": "markdown",
   "metadata": {},
   "source": [
    "## Image size distribution"
   ]
  },
  {
   "cell_type": "code",
   "execution_count": null,
   "metadata": {
    "collapsed": false
   },
   "outputs": [],
   "source": [
    "from math import sqrt\n",
    "\n",
    "sizes = []\n",
    "for i,image_file in enumerate(images):\n",
    "    img = ndimage.imread(image_file)\n",
    "    shape = img.shape\n",
    "    sizes.append(sqrt(shape[0]*shape[1]))\n",
    "\n",
    "plt.hist(sizes, bins=np.arange(90,300,5), log=True)\n",
    "plt.xlabel('image equivalent radius/pix')\n",
    "plt.ylabel('# of images')\n",
    "plt.show()"
   ]
  },
  {
   "cell_type": "code",
   "execution_count": null,
   "metadata": {
    "collapsed": true
   },
   "outputs": [],
   "source": []
  }
 ],
 "metadata": {
  "kernelspec": {
   "display_name": "Python 3",
   "language": "python",
   "name": "python3"
  },
  "language_info": {
   "codemirror_mode": {
    "name": "ipython",
    "version": 3
   },
   "file_extension": ".py",
   "mimetype": "text/x-python",
   "name": "python",
   "nbconvert_exporter": "python",
   "pygments_lexer": "ipython3",
   "version": "3.5.2"
  }
 },
 "nbformat": 4,
 "nbformat_minor": 2
}
